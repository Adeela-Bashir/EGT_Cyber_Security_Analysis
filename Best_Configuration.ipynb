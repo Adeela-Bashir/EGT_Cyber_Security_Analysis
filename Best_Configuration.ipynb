{
  "cells": [
    {
      "cell_type": "code",
      "execution_count": 3,
      "metadata": {
        "colab": {
          "base_uri": "https://localhost:8080/"
        },
        "id": "kTHKof9UY0pu",
        "outputId": "082f51ee-29ee-4223-bfa7-992d114a3b3c"
      },
      "outputs": [
        {
          "output_type": "stream",
          "name": "stdout",
          "text": [
            "Best configuration found after 100000 iterations:\n",
            "Parameters: a=1.0100, b=0.8800, c=0.7000, d=0.8600, w=0.9000\n",
            "v=0.6400\n",
            "Stable Equilibrium Points: 2 out of 4\n",
            "Stability Ratio: 50.00%\n"
          ]
        }
      ],
      "source": [
        "import numpy as np\n",
        "import matplotlib.pyplot as plt\n",
        "from numpy.linalg import eig\n",
        "\n",
        "# Define the replicator dynamics equations\n",
        "def F_beta(beta, alpha):\n",
        "    return beta(1- beta) * (b - d - b*alpha + v*b*alpha + v*w*alpha)\n",
        "\n",
        "def F_alpha(alpha, beta):\n",
        "    return alpha(1 - alpha) * (-c + a - m*p - a*v*beta - v*n*s*beta + v*m*p*beta)\n",
        "\n",
        "# Jacobian matrix to determine stability\n",
        "def jacobian(beta, alpha):\n",
        "    dF_beta_dalpha = beta * (1 - beta) * (-b + v*b + v*w)\n",
        "    dF_alpha_dbeta = alpha * (1 - alpha) * (-a*v - v*n*s + v*m*p)\n",
        "    dF_beta_dbeta = (1 - 2 * beta) * (b - d + b*alpha - v*b*alpha - v*w*alpha)\n",
        "    dF_alpha_dalpha = (2 * alpha - 1) * (c - a + m*p + a*v*beta + v*n*s*beta - v*m*p*beta)\n",
        "    return np.array([[dF_beta_dbeta, dF_beta_dalpha], [dF_alpha_dbeta, dF_alpha_dalpha]])\n",
        "\n",
        "# Helper function to classify equilibrium stability\n",
        "def classify_stability(eigenvalues):\n",
        "    if np.all(np.real(eigenvalues) < 0):\n",
        "        return \"Stable\"\n",
        "    elif np.all(np.real(eigenvalues) > 0):\n",
        "        return \"Unstable\"\n",
        "    else:\n",
        "        return \"Saddle\"\n",
        "\n",
        "# Maximum number of iterations for simulation\n",
        "max_iterations = 100000\n",
        "iteration = 0\n",
        "\n",
        "# Set fixed values for some parameters\n",
        "m, p, n, s = 0, 0, 0, 0  # Fixed to zero\n",
        "\n",
        "# Initialize the best configuration and stability tracking\n",
        "max_stable_count = 0\n",
        "best_parameters = None\n",
        "best_stability_ratio = 0\n",
        "\n",
        "# Loop through maximum iterations to find the best configuration\n",
        "\n",
        "while iteration < max_iterations:\n",
        "    # Randomly generate parameter values\n",
        "    w = np.round(np.random.uniform(0, 1), 2)  # a < w\n",
        "    c = np.round(np.random.uniform(0, 1), 2)  # 0 < c < 1\n",
        "    a = np.round(np.random.uniform(c, 2*w), 2)# c < a\n",
        "    d = np.round(np.random.uniform(0, 1), 2)  # 0 < d < 1\n",
        "    b = np.round(np.random.uniform(d, w), 2)  # d < b < w\n",
        "    v = np.round(np.random.uniform(0, 1), 2)  # 0 ≤ v ≤ 1\n",
        "    m = 0\n",
        "    n = 0\n",
        "    s = 0\n",
        "    p = 0\n",
        "\n",
        "    # Define equilibrium points (corner points)\n",
        "    equilibrium_points = [(0, 0), (0, 1), (1, 0), (1, 1)]\n",
        "\n",
        "    # Compute the internal equilibrium point based on given formulas\n",
        "    if (v*b - b + v*w) == 0:\n",
        "      pass\n",
        "    else:\n",
        "      beta_internal = round((d - b) / (v*b - b + v*w), 2)\n",
        "    if v*(a - m*p + n*s)==0 :\n",
        "      pass\n",
        "    else:\n",
        "      alpha_internal = round((a - c - m*p) / (v*(a - m*p + n*s)),2)\n",
        "\n",
        "    # Check if internal equilibrium is within the [0, 1] range\n",
        "    if 0 <= alpha_internal <= 1 and 0 <= beta_internal <= 1:\n",
        "        equilibrium_points.append((beta_internal, alpha_internal))\n",
        "\n",
        "    # Track stability of equilibrium points\n",
        "    stable_count = 0\n",
        "    for (beta_eq, alpha_eq) in equilibrium_points:\n",
        "        J = jacobian(beta_eq, alpha_eq)\n",
        "        eigenvalues = eig(J)[0]\n",
        "        stability = classify_stability(eigenvalues)\n",
        "\n",
        "        # Count the number of stable equilibria\n",
        "        if stability == \"Stable\":\n",
        "            stable_count += 1\n",
        "\n",
        "    # Update the best configuration if the current one is better\n",
        "    stability_ratio = stable_count / len(equilibrium_points)\n",
        "    if stable_count > max_stable_count:\n",
        "        max_stable_count = stable_count\n",
        "        best_stability_ratio = stability_ratio\n",
        "        best_parameters = {\n",
        "            \"a\": a, \"b\": b, \"c\": c, \"d\": d, \"w\": w,\n",
        "            \"v\": v, \"stable_count\": stable_count,\n",
        "            \"total_points\": len(equilibrium_points)\n",
        "        }\n",
        "\n",
        "    # Increment iteration count\n",
        "    iteration += 1\n",
        "\n",
        "# Display the best configuration and its stability ratio\n",
        "if best_parameters:\n",
        "    print(f\"Best configuration found after {iteration} iterations:\")\n",
        "    print(f\"Parameters: a={best_parameters['a']:.4f}, b={best_parameters['b']:.4f}, c={best_parameters['c']:.4f}, d={best_parameters['d']:.4f}, w={best_parameters['w']:.4f}\")\n",
        "    print(f\"v={best_parameters['v']:.4f}\")\n",
        "    print(f\"Stable Equilibrium Points: {best_parameters['stable_count']} out of {best_parameters['total_points']}\")\n",
        "    print(f\"Stability Ratio: {best_stability_ratio:.2%}\")\n",
        "else:\n",
        "    print(\"No stable equilibria found within the iteration limit.\")\n"
      ]
    },
    {
      "cell_type": "code",
      "execution_count": 4,
      "metadata": {
        "colab": {
          "base_uri": "https://localhost:8080/"
        },
        "id": "YYzSxJN3dl7C",
        "outputId": "4b324357-ed11-4c53-b7ef-883700e43ffd"
      },
      "outputs": [
        {
          "output_type": "stream",
          "name": "stdout",
          "text": [
            "Eigenvalues for (beta, alpha) = (0, 0): {b - d: 1, a - c - m*p: 1}\n",
            "Eigenvalues for (beta, alpha) = (0, 1): {b*v - d + v*w: 1, -a + c + m*p: 1}\n",
            "Eigenvalues for (beta, alpha) = (1, 0): {-b + d: 1, -a*v + a - c + m*p*v - m*p - n*s*v: 1}\n",
            "Eigenvalues for (beta, alpha) = (1, 1): {-b*v + d - v*w: 1, a*v - a + c - m*p*v + m*p + n*s*v: 1}\n",
            "Eigenvalues for (beta, alpha) = ((a - c - m*p)/(v*(a - m*p + n*s)), (-b + d)/(b*v - b + v*w)): {-sqrt(-(b - d)*(-a + c + m*p)*(b*v - d + v*w)*(-a*v + a - c + m*p*v - m*p - n*s*v)/(v*(-a + m*p - n*s)*(b*v - b + v*w))): 1, sqrt(-(b - d)*(-a + c + m*p)*(b*v - d + v*w)*(-a*v + a - c + m*p*v - m*p - n*s*v)/(v*(-a + m*p - n*s)*(b*v - b + v*w))): 1}\n"
          ]
        }
      ],
      "source": [
        "# Code to find Eigen values\n",
        "\n",
        "import sympy as sp\n",
        "\n",
        "# Define symbols\n",
        "beta, alpha = sp.symbols('beta alpha')\n",
        "b, d, v, w = sp.symbols('b d v w')\n",
        "a, c, m, p, n, s = sp.symbols('a c m p n s')\n",
        "\n",
        "# Jacobian matrix\n",
        "J = sp.Matrix([\n",
        "    [(1 - 2*beta) * (b - d - b*alpha + v*b*alpha + v*w*alpha), beta * (1 - beta) * (-b + v*b + v*w)],\n",
        "    [alpha * (1 - alpha) * (-a*v - v*n*s + v*m*p), (1 - 2*alpha) * (-c + a - m*p - a*v*beta - v*n*s*beta + v*m*p*beta)]\n",
        "])\n",
        "\n",
        "# Define points to evaluate\n",
        "points = [(0, 0), (0, 1), (1, 0), (1, 1),((a-c-m*p)/(v*(a-m*p+n*s)),(d-b)/(v*b-b+v*w))]\n",
        "\n",
        "# Calculate and print symbolic eigenvalues for each point\n",
        "for (beta_val, alpha_val) in points:\n",
        "    J_eval = J.subs({beta: beta_val, alpha: alpha_val})\n",
        "    eigenvals = J_eval.eigenvals()\n",
        "    print(f\"Eigenvalues for (beta, alpha) = ({beta_val}, {alpha_val}): {eigenvals}\")\n"
      ]
    }
  ],
  "metadata": {
    "colab": {
      "provenance": []
    },
    "kernelspec": {
      "display_name": "Python 3",
      "name": "python3"
    },
    "language_info": {
      "name": "python"
    }
  },
  "nbformat": 4,
  "nbformat_minor": 0
}